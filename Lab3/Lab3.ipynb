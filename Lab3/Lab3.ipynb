{
 "cells": [
  {
   "cell_type": "code",
   "execution_count": 1,
   "metadata": {},
   "outputs": [],
   "source": [
    "import numpy as np\n",
    "from matplotlib import pyplot as plt\n",
    "import scipy\n",
    "import scipy.stats\n",
    "from scipy.stats import moment\n",
    "from jupyterthemes import jtplot\n",
    "jtplot.style()"
   ]
  },
  {
   "cell_type": "markdown",
   "metadata": {},
   "source": [
    "## Параметры\n",
    "(вариант 4)\n",
    "\n",
    "$m=0$\n",
    "\n",
    "$s^2=1$"
   ]
  },
  {
   "cell_type": "code",
   "execution_count": 2,
   "metadata": {},
   "outputs": [],
   "source": [
    "#var 4\n",
    "m = 0\n",
    "s2 = 1"
   ]
  },
  {
   "cell_type": "markdown",
   "metadata": {},
   "source": [
    "## Основные задания\n",
    "1) Осуществить моделирование $n=10000$ реализаций случайной величины из нормального закона распределения $N(m,s^2)$ с заданными параметрами. Для моделирования воспользоваться алгоритмом, основанным на ЦПТ; (в качестве количества используемых слагаемых можно взять $N=48$, или $192$, или другое на свой выбор). Вычислить несмещенные оценки математического ожидания и дисперсии, сравнить их с истинными значениями."
   ]
  },
  {
   "cell_type": "code",
   "execution_count": null,
   "metadata": {},
   "outputs": [],
   "source": []
  },
  {
   "cell_type": "markdown",
   "metadata": {},
   "source": [
    "2) Смоделировать $n=10000$ случайных величин из заданных абсолютно непрерывных распределений. Вычислить несмещенные оценки математического ожидания и дисперсии, сравнить их с истинными значениями (если это возможно). Если математического ожидания не существует, то вычислить выборочное значение медианы и сравнить его с теоретическим."
   ]
  },
  {
   "cell_type": "code",
   "execution_count": null,
   "metadata": {},
   "outputs": [],
   "source": []
  },
  {
   "cell_type": "markdown",
   "metadata": {},
   "source": [
    "## Дополнительные задания\n",
    "1) а) Смоделировать $n=10000$ случайных величин из смеси двух распределений. Распределения взять из своего варианта задания 2, $\\pi$ – вероятность выбора элемента из первого распределения."
   ]
  },
  {
   "cell_type": "code",
   "execution_count": null,
   "metadata": {},
   "outputs": [],
   "source": []
  },
  {
   "cell_type": "markdown",
   "metadata": {},
   "source": [
    "б) Вычислить несмещенные оценки математического ожидания и дисперсии, сравнить их с истинными значениями (найти в литературе или вывести самостоятельно формулы для нахождения математического ожидания и дисперсии смеси распределений)."
   ]
  },
  {
   "cell_type": "code",
   "execution_count": null,
   "metadata": {},
   "outputs": [],
   "source": []
  },
  {
   "cell_type": "markdown",
   "metadata": {},
   "source": [
    "2) а) Осуществить моделирование $n=10000$ реализаций случайной величины из стандартного нормального закона распределения $N(0,1)$, используя преобразование Бокса — Мюллера. \n",
    "\n",
    "б) вычислить коэффициент корреляции с лагом 1 для сгенерированной реализации."
   ]
  },
  {
   "cell_type": "code",
   "execution_count": null,
   "metadata": {},
   "outputs": [],
   "source": []
  },
  {
   "cell_type": "markdown",
   "metadata": {},
   "source": [
    "3) Для сгенерированных выборок из заданных распределений построить гистограммы, сравнить с теоретическими плотностями распределения вероятностей (на одном рисунке 2 графика: гистограмма и теоретическая плотность, всего 3 рисунка для каждого распределения). Сравнить «сближение» графиков при $n=100$, $n=1000$, $n=10000$."
   ]
  },
  {
   "cell_type": "code",
   "execution_count": null,
   "metadata": {},
   "outputs": [],
   "source": []
  }
 ],
 "metadata": {
  "kernelspec": {
   "display_name": "Python 3",
   "language": "python",
   "name": "python3"
  },
  "language_info": {
   "codemirror_mode": {
    "name": "ipython",
    "version": 3
   },
   "file_extension": ".py",
   "mimetype": "text/x-python",
   "name": "python",
   "nbconvert_exporter": "python",
   "pygments_lexer": "ipython3",
   "version": "3.7.4"
  }
 },
 "nbformat": 4,
 "nbformat_minor": 2
}

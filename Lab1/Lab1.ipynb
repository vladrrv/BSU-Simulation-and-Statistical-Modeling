{
 "cells": [
  {
   "cell_type": "code",
   "execution_count": 1,
   "metadata": {},
   "outputs": [],
   "source": [
    "import numpy as np"
   ]
  },
  {
   "cell_type": "markdown",
   "metadata": {},
   "source": [
    "## Sensor classes"
   ]
  },
  {
   "cell_type": "code",
   "execution_count": 26,
   "metadata": {},
   "outputs": [],
   "source": [
    "class Sensor:\n",
    "    def __init__(self):\n",
    "        self._gen = self._genf()\n",
    "    \n",
    "    def _genf(self):\n",
    "        raise NotImplementedError(\"Method '_genf' must be implemented\")\n",
    "    \n",
    "    def reset(self):\n",
    "        self._gen = self._genf()\n",
    "        \n",
    "    def next_items(self, num):\n",
    "        return [next(self._gen) for _ in range(num)]\n",
    "    \n",
    "    def next(self):\n",
    "        return next(self._gen)\n",
    "        \n",
    "\n",
    "class MCM(Sensor):\n",
    "    def __init__(self, a_0, beta, M):\n",
    "        self.a_0 = a_0\n",
    "        self.beta = beta\n",
    "        self.M = M\n",
    "        super().__init__()\n",
    "        \n",
    "    def _genf(self):\n",
    "        a_t_prev = 0\n",
    "        a_t = self.a_0\n",
    "        #yield a_t/self.M\n",
    "        while True:\n",
    "            a_t_prev = a_t\n",
    "            a_t = (self.beta*a_t_prev)%self.M\n",
    "            at = a_t/self.M\n",
    "            yield at\n",
    "\n",
    "class MM(Sensor):\n",
    "    def __init__(self, K, D1, D2):\n",
    "        self.K = K\n",
    "        self.D1 = D1\n",
    "        self.D2 = D2\n",
    "        super().__init__()\n",
    "        \n",
    "    def _genf(self):\n",
    "        D1.reset()\n",
    "        D2.reset()\n",
    "        V = np.array(D1.next_items(K))\n",
    "        while True:\n",
    "            s = int(np.floor(D2.next()*K))\n",
    "            at = V[s]\n",
    "            V[s] = D1.next()\n",
    "            yield at"
   ]
  },
  {
   "cell_type": "markdown",
   "metadata": {},
   "source": [
    "## Параметры\n",
    "(вариант 4)"
   ]
  },
  {
   "cell_type": "code",
   "execution_count": 2,
   "metadata": {},
   "outputs": [],
   "source": [
    "n = 1000\n",
    "a01 = 296454621\n",
    "c1 = 48840859\n",
    "a02 = 302711857\n",
    "c2 = 37330745\n",
    "K = 64\n",
    "M = 2**31"
   ]
  },
  {
   "cell_type": "markdown",
   "metadata": {},
   "source": [
    "## Основные задания\n",
    "\n",
    "а) Осуществить моделирование $n=1000$ реализаций БСВ с помощью мультипликативного конгруэнтного метода (МКМ) с параметрами $a_0=a_{01}$, $\\beta=max(c_1,M-c_1)$, $M=2^{31}$ и вывести 1000-ый элемент сгенерированной последовательности."
   ]
  },
  {
   "cell_type": "code",
   "execution_count": 30,
   "metadata": {},
   "outputs": [
    {
     "name": "stdout",
     "output_type": "stream",
     "text": [
      "0.01701947906985879\n"
     ]
    }
   ],
   "source": [
    "beta = max(c1, M-c1)\n",
    "D1 = MCM(a01, beta, M)\n",
    "print(D1.next_items(n)[-1])"
   ]
  },
  {
   "cell_type": "markdown",
   "metadata": {},
   "source": [
    "б) Осуществить моделирование $n=1000$ реализаций БСВ с помощью метода Макларена-Марсальи, используя в качестве простейших датчиков БСВ датчики $D_1$ – датчик из первого задания, $D_2$ – датчик по методу МКМ с параметрами $a_0=a_{02}$, $\\beta=max(c_2,M-c_2)$, $M=2^{31}$, $K$ – объем вспомогательной таблицы и вывести 1000-ый элемент сгенерированной последовательности."
   ]
  },
  {
   "cell_type": "code",
   "execution_count": 31,
   "metadata": {},
   "outputs": [],
   "source": [
    "beta = max(c1, M-c1)\n",
    "D1 = MCM(a01, beta, M)\n",
    "beta = max(c2, M-c2)\n",
    "D2 = MCM(a02, beta, M)\n",
    "\n",
    "D3 = MM(K, D1, D2)\n",
    "print(D3.next_items(n)[-1])"
   ]
  },
  {
   "cell_type": "markdown",
   "metadata": {},
   "source": [
    "## Дополнительные задания\n",
    "\n",
    "1) Проверить точность моделирования с помощью теста «совпадения моментов» с уровнем значимости $\\epsilon=0.05$. Тест необходимо реализовать самостоятельно."
   ]
  },
  {
   "cell_type": "code",
   "execution_count": null,
   "metadata": {},
   "outputs": [],
   "source": []
  },
  {
   "cell_type": "markdown",
   "metadata": {},
   "source": [
    "2) Проверить точность моделирования с помощью теста «ковариация» с уровнем значимости $\\epsilon=0.05$. В качестве параметра $t$ выбрать значение 30. Вывести все такие значения лага, при котором тест не проходит. Тест необходимо реализовать самостоятельно."
   ]
  },
  {
   "cell_type": "code",
   "execution_count": null,
   "metadata": {},
   "outputs": [],
   "source": []
  },
  {
   "cell_type": "markdown",
   "metadata": {},
   "source": [
    "3) Вычислить выборочные коэффициенты корреляции $r_\\tau=corr(a_t,a_t+\\tau)$, $\\tau=1,...,30$. Как можно проинтерпретировать полученные значения?"
   ]
  },
  {
   "cell_type": "code",
   "execution_count": null,
   "metadata": {},
   "outputs": [],
   "source": []
  },
  {
   "cell_type": "markdown",
   "metadata": {},
   "source": [
    "4) Для выходных данных построить гистограмму с числом столбцов = 10. Сделать выводы."
   ]
  },
  {
   "cell_type": "code",
   "execution_count": null,
   "metadata": {},
   "outputs": [],
   "source": []
  },
  {
   "cell_type": "markdown",
   "metadata": {},
   "source": [
    "5) Проверить точность моделирования с помощью теста «равномерность двумерного\n",
    "распределения» с уровнем значимости $\\epsilon=0.05$. Параметр $k$ выбирать самостоятельно."
   ]
  },
  {
   "cell_type": "code",
   "execution_count": null,
   "metadata": {},
   "outputs": [],
   "source": []
  },
  {
   "cell_type": "markdown",
   "metadata": {},
   "source": [
    "6) Проверить точность моделирования БСВ с помощью любого другого известного Вам теста согласия. Тест необходимо реализовать самостоятельно."
   ]
  },
  {
   "cell_type": "code",
   "execution_count": null,
   "metadata": {},
   "outputs": [],
   "source": []
  },
  {
   "cell_type": "markdown",
   "metadata": {},
   "source": [
    "7) Определить длину периода выходной последовательности для генератора МКМ двумя способами: теоретически и практически."
   ]
  },
  {
   "cell_type": "code",
   "execution_count": null,
   "metadata": {},
   "outputs": [],
   "source": []
  }
 ],
 "metadata": {
  "kernelspec": {
   "display_name": "Python 3",
   "language": "python",
   "name": "python3"
  },
  "language_info": {
   "codemirror_mode": {
    "name": "ipython",
    "version": 3
   },
   "file_extension": ".py",
   "mimetype": "text/x-python",
   "name": "python",
   "nbconvert_exporter": "python",
   "pygments_lexer": "ipython3",
   "version": "3.7.4"
  }
 },
 "nbformat": 4,
 "nbformat_minor": 2
}

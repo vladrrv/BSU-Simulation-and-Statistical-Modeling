{
 "cells": [
  {
   "cell_type": "code",
   "execution_count": 15,
   "metadata": {},
   "outputs": [],
   "source": [
    "import numpy as np\n",
    "import scipy\n",
    "import scipy.stats\n",
    "from scipy.stats import norm\n",
    "from matplotlib import pyplot as plt"
   ]
  },
  {
   "cell_type": "markdown",
   "metadata": {},
   "source": [
    "## Sensor classes"
   ]
  },
  {
   "cell_type": "code",
   "execution_count": 29,
   "metadata": {},
   "outputs": [],
   "source": [
    "class Sensor:\n",
    "    def __init__(self):\n",
    "        self._gen = self._genf()\n",
    "    \n",
    "    def _genf(self):\n",
    "        raise NotImplementedError(\"Method '_genf' must be implemented\")\n",
    "    \n",
    "    def reset(self):\n",
    "        self._gen = self._genf()\n",
    "        \n",
    "    def next(self, num=1):\n",
    "        if num == 1: return next(self._gen)\n",
    "        return np.array([next(self._gen) for _ in range(num)])\n",
    "\n",
    "class MCM(Sensor):\n",
    "    def __init__(self, a_0, beta, M):\n",
    "        self.a_0 = a_0\n",
    "        self.beta = beta\n",
    "        self.M = M\n",
    "        super().__init__()\n",
    "        \n",
    "    def _genf(self):\n",
    "        a_t_prev = 0\n",
    "        a_t = self.a_0\n",
    "        #yield a_t/self.M\n",
    "        while True:\n",
    "            a_t_prev = a_t\n",
    "            a_t = (self.beta*a_t_prev)%self.M\n",
    "            at = a_t/self.M\n",
    "            yield at\n",
    "\n",
    "class MM(Sensor):\n",
    "    def __init__(self, K, D1, D2):\n",
    "        self.K = K\n",
    "        self.D1 = D1\n",
    "        self.D2 = D2\n",
    "        super().__init__()\n",
    "        \n",
    "    def _genf(self):\n",
    "        D1.reset()\n",
    "        D2.reset()\n",
    "        V = np.array(D1.next(K))\n",
    "        while True:\n",
    "            s = int(np.floor(D2.next()*K))\n",
    "            at = V[s]\n",
    "            V[s] = D1.next()\n",
    "            yield at\n",
    "            \n",
    "class Test:\n",
    "    def __init__(self, sensor):\n",
    "        self.sensor = sensor\n",
    "    def evaluate(self, n, eps=0.05):\n",
    "        self.sensor.reset()\n",
    "        a = self.sensor.next(n)\n",
    "        return self._test(a, eps)\n",
    "    def _test(self, a, eps):\n",
    "        raise NotImplementedError(\"Method 'evaluate' must be implemented\")\n",
    "\n",
    "class MomentsCoincidence(Test):\n",
    "    def _test(self, a, eps):\n",
    "        n = len(a)\n",
    "        m = np.sum(a)/n\n",
    "        s = np.sum((a-m)*(a-m))/(n-1)\n",
    "        ksi1 = m - 1/2\n",
    "        ksi2 = s - 1/12\n",
    "        c1 = np.sqrt(n*12)\n",
    "        c2 = (n-1)/n*(0.0056*n**(-1)+0.0028*n**(-2)-0.0083*n**(-3))**(-0.5)\n",
    "        d = norm.ppf(1-eps/2)\n",
    "        print(c1*np.abs(ksi1), c2*np.abs(ksi2))\n",
    "        return c1*np.abs(ksi1) < d and c2*np.abs(ksi2) < d\n",
    "    \n",
    "class Covariation(Test):\n",
    "    def __init__(self, sensor, t):\n",
    "        super().__init__(sensor)\n",
    "        self.t = t\n",
    "    def _test(self, a, eps):\n",
    "        n = len(a)\n",
    "        m = np.sum(a)/n\n",
    "        s = np.sum((a-m)*(a-m))/(n-1)\n",
    "\n",
    "        R = lambda j: 1/12 if j == 0 else 0\n",
    "        R_ = lambda j: np.sum(a[:n-j]*a[j:])/(n-j-1)-n/(n-1)*m*m\n",
    "        c = lambda j: np.sqrt(2) if j == 0 else 1\n",
    "        d = norm.ppf(1-eps/2)\n",
    "\n",
    "        for j in range(self.t):\n",
    "            left = np.abs(R(j)-R_(j))\n",
    "            right = c(j)*d/(12*np.sqrt(n-1))\n",
    "            if j < 20: \n",
    "                print(j, left, right, left >= right)\n",
    "                \n",
    "            if np.abs(R(j)-R_(j)) >= c(j)*d/(12*np.sqrt(n-1)):\n",
    "                return False\n",
    "        return True\n",
    "    def get_corr(self, n):\n",
    "        self.sensor.reset()\n",
    "        a = self.sensor.next(n)\n",
    "        return np.array([np.sum(a[:n-j]*a[j:])/(n-j-1) for j in range(self.t)])"
   ]
  },
  {
   "cell_type": "markdown",
   "metadata": {},
   "source": [
    "## Параметры\n",
    "(вариант 4)"
   ]
  },
  {
   "cell_type": "code",
   "execution_count": 3,
   "metadata": {},
   "outputs": [],
   "source": [
    "n = 1000\n",
    "a01 = 296454621\n",
    "c1 = 48840859\n",
    "a02 = 302711857\n",
    "c2 = 37330745\n",
    "K = 64\n",
    "M = 2**31"
   ]
  },
  {
   "cell_type": "markdown",
   "metadata": {},
   "source": [
    "## Основные задания\n",
    "\n",
    "а) Осуществить моделирование $n=1000$ реализаций БСВ с помощью мультипликативного конгруэнтного метода (МКМ) с параметрами $a_0=a_{01}$, $\\beta=max(c_1,M-c_1)$, $M=2^{31}$ и вывести 1000-ый элемент сгенерированной последовательности."
   ]
  },
  {
   "cell_type": "code",
   "execution_count": 18,
   "metadata": {},
   "outputs": [
    {
     "name": "stdout",
     "output_type": "stream",
     "text": [
      "[0.42600336 0.97420184 0.39171285 0.99485851 0.81767537 0.66994786\n",
      " 0.79045856 0.08539191 0.88668323 0.21262022]\n"
     ]
    }
   ],
   "source": [
    "beta = max(c1, M-c1)\n",
    "D1 = MCM(a01, beta, M)\n",
    "print(D1.next(n)[:10])"
   ]
  },
  {
   "cell_type": "markdown",
   "metadata": {},
   "source": [
    "б) Осуществить моделирование $n=1000$ реализаций БСВ с помощью метода Макларена-Марсальи, используя в качестве простейших датчиков БСВ датчики $D_1$ – датчик из первого задания, $D_2$ – датчик по методу МКМ с параметрами $a_0=a_{02}$, $\\beta=max(c_2,M-c_2)$, $M=2^{31}$, $K$ – объем вспомогательной таблицы и вывести 1000-ый элемент сгенерированной последовательности."
   ]
  },
  {
   "cell_type": "code",
   "execution_count": 19,
   "metadata": {},
   "outputs": [
    {
     "name": "stdout",
     "output_type": "stream",
     "text": [
      "[0.0593535  0.07258182 0.9896479  0.81009636 0.48374123 0.11362125\n",
      " 0.39171285 0.37144643 0.21827561 0.09936836]\n"
     ]
    }
   ],
   "source": [
    "beta = max(c1, M-c1)\n",
    "D1 = MCM(a01, beta, M)\n",
    "beta = max(c2, M-c2)\n",
    "D2 = MCM(a02, beta, M)\n",
    "\n",
    "D3 = MM(K, D1, D2)\n",
    "print(D3.next(n)[:10])"
   ]
  },
  {
   "cell_type": "markdown",
   "metadata": {},
   "source": [
    "## Дополнительные задания\n",
    "\n",
    "1) Проверить точность моделирования с помощью теста «совпадения моментов» с уровнем значимости $\\epsilon=0.05$. Тест необходимо реализовать самостоятельно."
   ]
  },
  {
   "cell_type": "code",
   "execution_count": 24,
   "metadata": {},
   "outputs": [
    {
     "name": "stdout",
     "output_type": "stream",
     "text": [
      "0.3067922293378406 0.24831421639317094\n",
      "True\n"
     ]
    }
   ],
   "source": [
    "test1 = MomentsCoincidence(D3)\n",
    "print(test1.evaluate(1000))"
   ]
  },
  {
   "cell_type": "markdown",
   "metadata": {},
   "source": [
    "2) Проверить точность моделирования с помощью теста «ковариация» с уровнем значимости $\\epsilon=0.05$. В качестве параметра $t$ выбрать значение 30. Вывести все такие значения лага, при котором тест не проходит. Тест необходимо реализовать самостоятельно."
   ]
  },
  {
   "cell_type": "code",
   "execution_count": 30,
   "metadata": {},
   "outputs": [
    {
     "name": "stdout",
     "output_type": "stream",
     "text": [
      "0 0.00028414023791072107 0.007308009423474799 False\n",
      "1 0.0015743166869012226 0.005167543020314222 False\n",
      "2 0.001115913330370033 0.005167543020314222 False\n",
      "3 0.0021471822855622658 0.005167543020314222 False\n",
      "4 4.198057774790209e-05 0.005167543020314222 False\n",
      "5 0.0010567687250788993 0.005167543020314222 False\n",
      "6 0.004147988982899031 0.005167543020314222 False\n",
      "7 0.00418072814816603 0.005167543020314222 False\n",
      "8 0.00027955088608244694 0.005167543020314222 False\n",
      "9 0.0015013994183423196 0.005167543020314222 False\n",
      "10 0.0004147873004357594 0.005167543020314222 False\n",
      "11 0.0025691931670414336 0.005167543020314222 False\n",
      "12 0.004955055730211239 0.005167543020314222 False\n",
      "13 0.0027779050354855006 0.005167543020314222 False\n",
      "14 0.00168979766054278 0.005167543020314222 False\n",
      "15 0.0011899813270114246 0.005167543020314222 False\n",
      "16 0.0019956274198089097 0.005167543020314222 False\n",
      "17 0.004342791707071414 0.005167543020314222 False\n",
      "18 0.00021480883810626183 0.005167543020314222 False\n",
      "19 0.002918470829998826 0.005167543020314222 False\n",
      "False\n"
     ]
    }
   ],
   "source": [
    "test = Covariation(D1, 30)\n",
    "print(test.evaluate(1000))"
   ]
  },
  {
   "cell_type": "markdown",
   "metadata": {},
   "source": [
    "3) Вычислить выборочные коэффициенты корреляции $r_\\tau=corr(a_t,a_{t+\\tau})$, $\\tau=1,...,30$. Как можно проинтерпретировать полученные значения?"
   ]
  },
  {
   "cell_type": "code",
   "execution_count": 32,
   "metadata": {},
   "outputs": [
    {
     "name": "stdout",
     "output_type": "stream",
     "text": [
      "[0.34024348 0.25503116 0.25260287 0.25954138 0.25774473 0.25827959\n",
      " 0.25245476 0.25626536 0.25551639 0.2586552  0.26039414 0.25709191\n",
      " 0.25758261 0.253602   0.26018892 0.25194737 0.25124674 0.25953448\n",
      " 0.25377965 0.25411779 0.25543776 0.26288474 0.25266157 0.25512416\n",
      " 0.2560567  0.25160721 0.25891671 0.25391589 0.24966282 0.25382908]\n"
     ]
    }
   ],
   "source": [
    "r = Covariation(D2, 30).get_corr(1000)\n",
    "print(r)"
   ]
  },
  {
   "cell_type": "markdown",
   "metadata": {},
   "source": [
    "4) Для выходных данных построить гистограмму с числом столбцов = 10. Сделать выводы."
   ]
  },
  {
   "cell_type": "code",
   "execution_count": 17,
   "metadata": {},
   "outputs": [
    {
     "data": {
      "text/plain": [
       "(array([101.,  96., 114., 105., 102.,  94., 102.,  88., 100.,  98.]),\n",
       " array([0.00270185, 0.10241182, 0.2021218 , 0.30183178, 0.40154175,\n",
       "        0.50125173, 0.6009617 , 0.70067168, 0.80038165, 0.90009163,\n",
       "        0.9998016 ]),\n",
       " <a list of 10 Patch objects>)"
      ]
     },
     "execution_count": 17,
     "metadata": {},
     "output_type": "execute_result"
    },
    {
     "data": {
      "image/png": "[encoded data removed]",
      "text/plain": [
       "<Figure size 432x288 with 1 Axes>"
      ]
     },
     "metadata": {
      "needs_background": "light"
     },
     "output_type": "display_data"
    }
   ],
   "source": [
    "#plt.hist(r, 10)\n",
    "plt.hist(D1.next(1000), 10)"
   ]
  },
  {
   "cell_type": "markdown",
   "metadata": {},
   "source": [
    "5) Проверить точность моделирования с помощью теста «равномерность двумерного\n",
    "распределения» с уровнем значимости $\\epsilon=0.05$. Параметр $k$ выбирать самостоятельно."
   ]
  },
  {
   "cell_type": "code",
   "execution_count": null,
   "metadata": {},
   "outputs": [],
   "source": []
  },
  {
   "cell_type": "markdown",
   "metadata": {},
   "source": [
    "6) Проверить точность моделирования БСВ с помощью любого другого известного Вам теста согласия. Тест необходимо реализовать самостоятельно."
   ]
  },
  {
   "cell_type": "code",
   "execution_count": null,
   "metadata": {},
   "outputs": [],
   "source": []
  },
  {
   "cell_type": "markdown",
   "metadata": {},
   "source": [
    "7) Определить длину периода выходной последовательности для генератора МКМ двумя способами: теоретически и практически."
   ]
  },
  {
   "cell_type": "code",
   "execution_count": null,
   "metadata": {},
   "outputs": [],
   "source": []
  }
 ],
 "metadata": {
  "kernelspec": {
   "display_name": "Python 3",
   "language": "python",
   "name": "python3"
  },
  "language_info": {
   "codemirror_mode": {
    "name": "ipython",
    "version": 3
   },
   "file_extension": ".py",
   "mimetype": "text/x-python",
   "name": "python",
   "nbconvert_exporter": "python",
   "pygments_lexer": "ipython3",
   "version": "3.7.4"
  }
 },
 "nbformat": 4,
 "nbformat_minor": 2
}

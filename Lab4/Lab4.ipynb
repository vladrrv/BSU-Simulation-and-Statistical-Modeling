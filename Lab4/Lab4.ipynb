{
 "cells": [
  {
   "cell_type": "code",
   "execution_count": 1,
   "metadata": {},
   "outputs": [],
   "source": [
    "import numpy as np\n",
    "from matplotlib import pyplot as plt\n",
    "import pandas as pd\n",
    "import scipy\n",
    "import scipy.stats\n",
    "import scipy.integrate\n",
    "from scipy.integrate import quad\n",
    "from scipy.stats import uniform, norm\n",
    "from jupyterthemes import jtplot\n",
    "jtplot.style()"
   ]
  },
  {
   "cell_type": "markdown",
   "metadata": {},
   "source": [
    "## Основные задания\n",
    "1) По методу Монте-Карло вычислить приближенное значение определенного интеграла. Параметр числа итераций n выбрать большим 1000. Сравнить полученное значение либо с точным значением (если его получится вычислить), либо с приближенным, полученным в каком-либо математическом пакете (например, в mathematica)."
   ]
  },
  {
   "cell_type": "markdown",
   "metadata": {},
   "source": [
    "### Параметры\n",
    "(вариант 4)\n",
    "\n",
    "---\n",
    "\n",
    "а) $\\int_0^{\\pi} (x \\mathrm{cos}(x))^2 dx$\n",
    "\n",
    "б) $\\int_{-\\infty}^{\\infty} \\frac{dx}{(x^2+x+1)^2} $\n",
    "\n",
    "в) $\\iint\\limits_{x^2+y^2<1} \\, \\mathrm{ln}\\left(\\frac{1}{\\sqrt{x^2+y^2}}\\right) dx dy $\n",
    "\n",
    "---\n",
    "\n",
    "$A=\\begin{pmatrix}\n",
    "0.75 & 0 & 0.25 \\\\\n",
    "0.3 & 0.5 & 0.2 \\\\\n",
    "0.2 & 0.2 & 0.6 \n",
    "\\end{pmatrix}\\cdot 0.9 \n",
    ",\\quad\n",
    "f=\\begin{pmatrix}\n",
    "0.33333 \\\\\n",
    "0.33333 \\\\\n",
    "0.33334\n",
    "\\end{pmatrix}\n",
    "$"
   ]
  },
  {
   "cell_type": "code",
   "execution_count": 2,
   "metadata": {},
   "outputs": [
    {
     "name": "stdout",
     "output_type": "stream",
     "text": [
      "a)\n",
      "Approximate: 6.077193213198557, exact: 5.953110943447418\n",
      "b)\n",
      "Approximate: 2.4033286636220335, exact: 2.4183991523122903\n",
      "c)\n",
      "Approximate: 1.572756625701668, exact: 1.5707963267948966\n"
     ]
    }
   ],
   "source": [
    "def compute_integral(g, x0, x1, distr, n=10000):\n",
    "    eta = distr.rvs(n)\n",
    "    approx = np.mean(g(eta)/distr.pdf(eta))\n",
    "    exact,_ = quad(g, x0, x1)\n",
    "    print(f'Approximate: {approx}, exact: {exact}')\n",
    "\n",
    "def compute_integral_2d(g, n=1000000):\n",
    "    distr_r2 = uniform()\n",
    "    distr_phi = uniform(loc=-np.pi, scale=2*np.pi)\n",
    "    length = np.sqrt(distr_r2.rvs(n))\n",
    "    angle = distr_phi.rvs(n)\n",
    "    eta_x = length * np.cos(angle)\n",
    "    eta_y = length * np.sin(angle)\n",
    "    # plt.scatter(eta_x, eta_y)\n",
    "    # plt.show()\n",
    "    pdf = lambda x,y: distr_r2.pdf(x**2+y**2)*distr_phi.pdf(np.arctan2(y,x))*2\n",
    "    approx = np.mean(g(eta_x, eta_y)/pdf(eta_x, eta_y))\n",
    "    exact = quad(lambda r: r*np.log(1/r), 0, 1)[0]*2*np.pi\n",
    "    print(f'Approximate: {approx}, exact: {exact}')\n",
    "\n",
    "\n",
    "print('a)')\n",
    "g = lambda x: (x*np.cos(x))**2\n",
    "x0, x1 = 0, np.pi\n",
    "distr = uniform(x0,x1)\n",
    "compute_integral(g, x0, x1, distr)\n",
    "\n",
    "print('b)')\n",
    "g = lambda x: 1/(x**2+x+1)**2\n",
    "x0, x1 = -np.inf, np.inf\n",
    "distr = norm()\n",
    "compute_integral(g, x0, x1, distr)\n",
    "\n",
    "print('c)')\n",
    "g = lambda x,y: np.log(1/np.sqrt(x**2+y**2))\n",
    "compute_integral_2d(g)"
   ]
  },
  {
   "cell_type": "markdown",
   "metadata": {},
   "source": [
    "## Дополнительные задания\n",
    "1) Решить систему линейных алгебраических уравнений $x=Ax+f$ методом Монте-Карло. Сравнить с решением данного уравнения, полученным произвольным численным методом или решением в произвольном математическом пакете. В качестве матрицы $A$ взять матрицу $P$ из своего варианта лабораторной работы номер 2 и все ее элементы умножить на $0.9$. В качестве вектора $f$ выбрать вектор $\\pi$ из той же лабораторной работы. Если система получается несовместной или имеет не одно решение, то разрешается изменить матрицу А, домножив некоторые ее элементы на $-1$."
   ]
  },
  {
   "cell_type": "code",
   "execution_count": 3,
   "metadata": {},
   "outputs": [
    {
     "name": "stdout",
     "output_type": "stream",
     "text": [
      "Approximate:  [3.13002915 3.22003013 3.64993939]\n",
      "Exact:  [3.33333216 3.33333099 3.33334645]\n"
     ]
    }
   ],
   "source": [
    "P = np.array([\n",
    "    [0.75, 0, 0.25],\n",
    "    [0.3, 0.5, 0.2],\n",
    "    [0.2, 0.2, 0.6]\n",
    "])\n",
    "pi = np.array([\n",
    "    [0.33333],\n",
    "    [0.33333],\n",
    "    [0.33334]\n",
    "])\n",
    "\n",
    "A = P*0.9\n",
    "f = pi\n",
    "\n",
    "N = 1000\n",
    "m = 1000\n",
    "ksi = np.zeros((m,3))\n",
    "\n",
    "H = np.eye(3)\n",
    "\n",
    "for l in range(m):\n",
    "    print(f'{l}/{m}', end='\\r')\n",
    "    i = np.empty(N, dtype=int)\n",
    "    Q = np.empty((N,3))\n",
    "\n",
    "    i[0] = np.random.choice([0,1,2], p=pi.flatten())\n",
    "    for k in range(1,N):\n",
    "        i[k] = np.random.choice([0,1,2], p=P[i[k-1]])\n",
    "\n",
    "    Q[0] = H[i[0]]/pi[i[0]] if pi[i[0]] > 0 else 0\n",
    "    for k in range(1,N):\n",
    "        Q[k] = (Q[k-1] * A[i[k-1],i[k]] / P[i[k-1],i[k]]) if P[i[k-1],i[k]] > 0 else 0\n",
    "\n",
    "    for n in range(N):\n",
    "        ksi[l] += Q[n]*f[i[n]]\n",
    "\n",
    "x = np.mean(ksi, axis=0)\n",
    "print('Approximate: ', x)\n",
    "x_exact = np.linalg.solve(H-A, f)\n",
    "print('Exact: ', x_exact.flatten())"
   ]
  },
  {
   "cell_type": "code",
   "execution_count": null,
   "metadata": {},
   "outputs": [],
   "source": []
  }
 ],
 "metadata": {
  "kernelspec": {
   "display_name": "Python 3",
   "language": "python",
   "name": "python3"
  },
  "language_info": {
   "codemirror_mode": {
    "name": "ipython",
    "version": 3
   },
   "file_extension": ".py",
   "mimetype": "text/x-python",
   "name": "python",
   "nbconvert_exporter": "python",
   "pygments_lexer": "ipython3",
   "version": "3.7.4"
  }
 },
 "nbformat": 4,
 "nbformat_minor": 2
}

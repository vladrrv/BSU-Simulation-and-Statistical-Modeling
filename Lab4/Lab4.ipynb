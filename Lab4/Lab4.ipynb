{
 "cells": [
  {
   "cell_type": "code",
   "execution_count": 1,
   "metadata": {},
   "outputs": [],
   "source": [
    "import numpy as np\n",
    "from matplotlib import pyplot as plt\n",
    "import pandas as pd\n",
    "import scipy\n",
    "import scipy.stats\n",
    "from scipy.stats import moment, norm, logistic, f, chi2\n",
    "from jupyterthemes import jtplot\n",
    "jtplot.style()"
   ]
  },
  {
   "cell_type": "markdown",
   "metadata": {},
   "source": [
    "## Основные задания\n",
    "1) По методу Монте-Карло вычислить приближенное значение определенного интеграла. Параметр числа итераций n выбрать большим 1000. Сравнить полученное значение либо с точным значением (если его получится вычислить), либо с приближенным, полученным в каком-либо математическом пакете (например, в mathematica)."
   ]
  },
  {
   "cell_type": "markdown",
   "metadata": {},
   "source": [
    "## Параметры\n",
    "(вариант 4)\n",
    "\n",
    "а) $\\int_0^{\\pi} (x \\mathrm{cos}(x))^2 dx$\n",
    "\n",
    "б) $\\int_{-\\infty}^{\\infty} \\frac{dx}{(x^2+x+1)^2} $\n",
    "\n",
    "в) $\\iint\\limits_{x^2+y^2<1} \\, \\mathrm{ln}\\left(\\frac{1}{\\sqrt{x^2+y^2}}\\right) dx dy $"
   ]
  },
  {
   "cell_type": "code",
   "execution_count": null,
   "metadata": {},
   "outputs": [],
   "source": []
  },
  {
   "cell_type": "markdown",
   "metadata": {},
   "source": [
    "## Дополнительные задания\n",
    "1) Решить систему линейных алгебраических уравнений $x=Ax+f$ методом Монте-Карло. Сравнить с решением данного уравнения, полученным произвольным численным методом или решением в произвольном математическом пакете. В качестве матрицы $A$ взять матрицу $P$ из своего варианта лабораторной работы номер 2 и все ее элементы умножить на $0.9$. В качестве вектора $f$ выбрать вектор $\\pi$ из той же лабораторной работы. Если система получается несовместной или имеет не одно решение, то разрешается изменить матрицу А, домножив некоторые ее элементы на $-1$."
   ]
  },
  {
   "cell_type": "code",
   "execution_count": null,
   "metadata": {},
   "outputs": [],
   "source": []
  }
 ],
 "metadata": {
  "kernelspec": {
   "display_name": "Python 3",
   "language": "python",
   "name": "python3"
  },
  "language_info": {
   "codemirror_mode": {
    "name": "ipython",
    "version": 3
   },
   "file_extension": ".py",
   "mimetype": "text/x-python",
   "name": "python",
   "nbconvert_exporter": "python",
   "pygments_lexer": "ipython3",
   "version": "3.7.4"
  }
 },
 "nbformat": 4,
 "nbformat_minor": 2
}

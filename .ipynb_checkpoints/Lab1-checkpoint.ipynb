{
 "cells": [
  {
   "cell_type": "code",
   "execution_count": 1,
   "metadata": {},
   "outputs": [],
   "source": [
    "import numpy as np"
   ]
  },
  {
   "cell_type": "markdown",
   "metadata": {},
   "source": [
    "## Sensor classes"
   ]
  },
  {
   "cell_type": "code",
   "execution_count": 26,
   "metadata": {},
   "outputs": [],
   "source": [
    "class Sensor:\n",
    "    def __init__(self):\n",
    "        self._gen = self._genf()\n",
    "    \n",
    "    def _genf(self):\n",
    "        raise NotImplementedError(\"Method '_genf' must be implemented\")\n",
    "    \n",
    "    def reset(self):\n",
    "        self._gen = self._genf()\n",
    "        \n",
    "    def next_items(self, num):\n",
    "        return [next(self._gen) for _ in range(num)]\n",
    "    \n",
    "    def next(self):\n",
    "        return next(self._gen)\n",
    "        \n",
    "\n",
    "class MCM(Sensor):\n",
    "    def __init__(self, a_0, beta, M):\n",
    "        self.a_0 = a_0\n",
    "        self.beta = beta\n",
    "        self.M = M\n",
    "        super().__init__()\n",
    "        \n",
    "    def _genf(self):\n",
    "        a_t_prev = 0\n",
    "        a_t = self.a_0\n",
    "        #yield a_t/self.M\n",
    "        while True:\n",
    "            a_t_prev = a_t\n",
    "            a_t = (self.beta*a_t_prev)%self.M\n",
    "            at = a_t/self.M\n",
    "            yield at\n",
    "\n",
    "class MM(Sensor):\n",
    "    def __init__(self, K, D1, D2):\n",
    "        self.K = K\n",
    "        self.D1 = D1\n",
    "        self.D2 = D2\n",
    "        super().__init__()\n",
    "        \n",
    "    def _genf(self):\n",
    "        D1.reset()\n",
    "        D2.reset()\n",
    "        V = np.array(D1.next_items(K))\n",
    "        while True:\n",
    "            s = int(np.floor(D2.next()*K))\n",
    "            at = V[s]\n",
    "            V[s] = D1.next()\n",
    "            yield at"
   ]
  },
  {
   "cell_type": "markdown",
   "metadata": {},
   "source": [
    "## Inputs"
   ]
  },
  {
   "cell_type": "code",
   "execution_count": 2,
   "metadata": {},
   "outputs": [],
   "source": [
    "n = 1000\n",
    "a01 = 296454621\n",
    "c1 = 48840859\n",
    "a02 = 302711857\n",
    "c2 = 37330745\n",
    "K = 64\n",
    "M = 2**31"
   ]
  },
  {
   "cell_type": "markdown",
   "metadata": {},
   "source": [
    "## Task 1"
   ]
  },
  {
   "cell_type": "code",
   "execution_count": 30,
   "metadata": {},
   "outputs": [
    {
     "name": "stdout",
     "output_type": "stream",
     "text": [
      "0.01701947906985879\n"
     ]
    }
   ],
   "source": [
    "beta = max(c1, M-c1)\n",
    "D1 = MCM(a01, beta, M)\n",
    "print(D1.next_items(n)[-1])"
   ]
  },
  {
   "cell_type": "markdown",
   "metadata": {},
   "source": [
    "## Task 2"
   ]
  },
  {
   "cell_type": "code",
   "execution_count": 31,
   "metadata": {},
   "outputs": [],
   "source": [
    "beta = max(c1, M-c1)\n",
    "D1 = MCM(a01, beta, M)\n",
    "beta = max(c2, M-c2)\n",
    "D2 = MCM(a02, beta, M)"
   ]
  },
  {
   "cell_type": "code",
   "execution_count": 35,
   "metadata": {},
   "outputs": [
    {
     "name": "stdout",
     "output_type": "stream",
     "text": [
      "0.17752609821036458\n"
     ]
    }
   ],
   "source": [
    "D3 = MM(K, D1, D2)\n",
    "print(D3.next_items(n)[-1])"
   ]
  },
  {
   "cell_type": "markdown",
   "metadata": {},
   "source": [
    "## Additional Tasks"
   ]
  },
  {
   "cell_type": "code",
   "execution_count": null,
   "metadata": {},
   "outputs": [],
   "source": []
  }
 ],
 "metadata": {
  "kernelspec": {
   "display_name": "Python 3",
   "language": "python",
   "name": "python3"
  },
  "language_info": {
   "codemirror_mode": {
    "name": "ipython",
    "version": 3
   },
   "file_extension": ".py",
   "mimetype": "text/x-python",
   "name": "python",
   "nbconvert_exporter": "python",
   "pygments_lexer": "ipython3",
   "version": "3.7.4"
  }
 },
 "nbformat": 4,
 "nbformat_minor": 2
}
